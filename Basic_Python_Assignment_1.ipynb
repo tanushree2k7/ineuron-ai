{
 "cells": [
  {
   "cell_type": "markdown",
   "metadata": {},
   "source": [
    "#######   Python Basic Assignment   ###########\n",
    "\n",
    "############### Assignment -1 #################"
   ]
  },
  {
   "cell_type": "code",
   "execution_count": null,
   "metadata": {},
   "outputs": [],
   "source": [
    "# Q-1: In the below elements which of them are values or an expression? eg:- values can be integer or string and expressions will be mathematical operators.\n",
    "\n",
    "# Answer:   'hello'      Values\n",
    "#-87.8                    expression\n",
    "#-                        expression\n",
    "#/                        expression\n",
    "#+                       expression\n",
    "#6                        values\n"
   ]
  },
  {
   "cell_type": "code",
   "execution_count": 6,
   "metadata": {},
   "outputs": [],
   "source": [
    "# Q-2: What is the difference between string and variable?\n",
    "\n",
    "# Answer: Whenever a data stored using “”, is called string. Eg: “tanu”\n",
    "#This data can be stored by variable. Eg: x=tanu\n"
   ]
  },
  {
   "cell_type": "code",
   "execution_count": 1,
   "metadata": {},
   "outputs": [],
   "source": [
    "# Q-3: Describe three different data types.\n",
    "\n",
    "# Answer:\n",
    "\n",
    "# a = 11            Integer\n",
    "# b = 'tanu'         string\n",
    "# c = 4+6i           Complex data type\n"
   ]
  },
  {
   "cell_type": "code",
   "execution_count": 10,
   "metadata": {},
   "outputs": [],
   "source": [
    "# Q-4: What is an expression made up of? What do all expressions do?\n",
    "\n",
    "# answer: Expression is made up of a combination of an integer or string with the mathematical operators. \n",
    "  Expressions will do:\n",
    "•addition of an integer or string\n",
    "•Multiplication of integer or string etc.\n"
   ]
  },
  {
   "cell_type": "code",
   "execution_count": null,
   "metadata": {},
   "outputs": [],
   "source": [
    "# Q-5: This assignment statements, like spam = 10. What is the difference between an expression and a statement?\n",
    "\n",
    "# answer: spam=10, assign the value '10' into spam variable. While the expression is combination of an integer or str\n"
   ]
  },
  {
   "cell_type": "code",
   "execution_count": 4,
   "metadata": {},
   "outputs": [
    {
     "name": "stdout",
     "output_type": "stream",
     "text": [
      "22\n",
      "23\n"
     ]
    }
   ],
   "source": [
    "# Q-6: After running the following code, what does the variable bacon contain?\n",
    "\n",
    "# Answer:\n",
    "\n",
    "bacon = 22\n",
    "print(bacon)\n",
    "bb=bacon + 1\n",
    "print(bb)\n",
    "\n"
   ]
  },
  {
   "cell_type": "code",
   "execution_count": 6,
   "metadata": {},
   "outputs": [
    {
     "name": "stdout",
     "output_type": "stream",
     "text": [
      "spamspamspam\n",
      "spamspamspam\n"
     ]
    }
   ],
   "source": [
    "# Q-7: What should the values of the following two terms be?\n",
    "\n",
    "# answer:\n",
    "\n",
    "x='spam' + 'spamspam'\n",
    "print(x)\n",
    "y='spam' * 3\n",
    "print(y)\n",
    "\n",
    "# Both term will give you \"spamspamspam\""
   ]
  },
  {
   "cell_type": "code",
   "execution_count": 7,
   "metadata": {},
   "outputs": [
    {
     "ename": "SyntaxError",
     "evalue": "cannot assign to literal (<ipython-input-7-e06806218dd2>, line 7)",
     "output_type": "error",
     "traceback": [
      "\u001b[1;36m  File \u001b[1;32m\"<ipython-input-7-e06806218dd2>\"\u001b[1;36m, line \u001b[1;32m7\u001b[0m\n\u001b[1;33m    100 = 'hundred'\u001b[0m\n\u001b[1;37m    ^\u001b[0m\n\u001b[1;31mSyntaxError\u001b[0m\u001b[1;31m:\u001b[0m cannot assign to literal\n"
     ]
    }
   ],
   "source": [
    "# Q-8: Why is eggs a valid variable name while 100 is invalid?\n",
    "\n",
    "# Answer: integer cannont be a variable but string can be. Let understand thorugh an exapmle.\n",
    "\n",
    "eggs = 25\n",
    "print(eggs)\n",
    "100 = 'hundred'\n",
    "print(100)\n",
    "\n",
    "# Will get an error like this while no error in first statement\n",
    "\n",
    "#File \"<ipython-input-19-2b9a31c95616>\", line 7\n",
    "#   100 = 'hundred'\n",
    "#   ^\n",
    "#SyntaxError: cannot assign to literal"
   ]
  },
  {
   "cell_type": "code",
   "execution_count": null,
   "metadata": {},
   "outputs": [],
   "source": [
    "# Q-9: What three functions can be used to get the integer, floating-point number, or string version of a value?\n",
    "\n",
    "# Answer: To get integer:  int()\n",
    "#         To get float:    float()\n",
    "#         To get string:   str()"
   ]
  },
  {
   "cell_type": "code",
   "execution_count": 8,
   "metadata": {},
   "outputs": [
    {
     "data": {
      "text/plain": [
       "'I have eaten 99 burritos.'"
      ]
     },
     "execution_count": 8,
     "metadata": {},
     "output_type": "execute_result"
    }
   ],
   "source": [
    "# Q-10: Why does this expression cause an error? How can you fix it?\n",
    "#  'I have eaten ' + 99 + ' burritos.'\n",
    "\n",
    "# Answer: String and integer can't be added.\n",
    "#    error fixed. Like:\n",
    "\n",
    "'I have eaten ' + '99' + ' burritos.'"
   ]
  },
  {
   "cell_type": "code",
   "execution_count": null,
   "metadata": {},
   "outputs": [],
   "source": []
  }
 ],
 "metadata": {
  "kernelspec": {
   "display_name": "Python 3",
   "language": "python",
   "name": "python3"
  },
  "language_info": {
   "codemirror_mode": {
    "name": "ipython",
    "version": 3
   },
   "file_extension": ".py",
   "mimetype": "text/x-python",
   "name": "python",
   "nbconvert_exporter": "python",
   "pygments_lexer": "ipython3",
   "version": "3.8.5"
  }
 },
 "nbformat": 4,
 "nbformat_minor": 4
}
